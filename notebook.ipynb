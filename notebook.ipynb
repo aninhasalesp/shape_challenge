{
 "cells": [
  {
   "cell_type": "code",
   "execution_count": 1,
   "metadata": {},
   "outputs": [],
   "source": [
    "# imports\n",
    "import pandas as pd\n",
    "\n",
    "from datetime import datetime, date\n",
    "\n",
    "from pyspark.sql import SparkSession\n",
    "from pyspark.sql import Row\n",
    "from pyspark.sql import functions as F\n",
    "from pyspark.sql.window import Window\n",
    "\n",
    "from sqlalchemy import create_engine\n",
    "from sqlalchemy.orm import Session\n",
    "\n",
    "from models import Equipment, EquipmentLog, EquipmentSensor\n",
    "\n",
    "DATABASE_URI = 'sqlite:///database.sqlite'"
   ]
  },
  {
   "cell_type": "code",
   "execution_count": 24,
   "metadata": {},
   "outputs": [],
   "source": [
    "# init sessions\n",
    "spark = SparkSession.builder.master(\n",
    "    \"local[*]\"\n",
    ").config(\n",
    "    \"spark.driver.memory\", \"15g\"\n",
    ").appName(\n",
    "    \"shape_challenge\"\n",
    ").getOrCreate()\n",
    "\n",
    "spark.sparkContext.setLogLevel(\"ERROR\")\n",
    "\n",
    "engine = create_engine(DATABASE_URI, echo=False)"
   ]
  },
  {
   "cell_type": "code",
   "execution_count": 3,
   "metadata": {},
   "outputs": [],
   "source": [
    "# load database data to dataframes\n",
    "with Session(engine) as session:\n",
    "    e_df = spark.createDataFrame(\n",
    "        [\n",
    "            Row(\n",
    "                **{\n",
    "                    key: value for key, value in equipment.__dict__.items() if not key.startswith(\"_\")\n",
    "                }\n",
    "            ) for equipment in session.query(Equipment).all()\n",
    "        ]\n",
    "    )\n",
    "    s_df = spark.createDataFrame(\n",
    "        [\n",
    "            Row(\n",
    "                **{\n",
    "                    key: value for key, value in sensor.__dict__.items() if not key.startswith(\"_\")\n",
    "                }\n",
    "            ) for sensor in session.query(EquipmentSensor).all()\n",
    "        ]\n",
    "    )"
   ]
  },
  {
   "cell_type": "code",
   "execution_count": 4,
   "metadata": {},
   "outputs": [],
   "source": [
    "# load logfile to dataframe\n",
    "with open(\"./resource/equipment_failure_sensors.txt\", \"r\") as log_file:\n",
    "    l_df = spark.createDataFrame(\n",
    "        [\n",
    "            Row(\n",
    "                **EquipmentLog.parse_log_line(log_line)\n",
    "            ) for log_line in log_file.readlines()\n",
    "        ]\n",
    "    )"
   ]
  },
  {
   "cell_type": "code",
   "execution_count": 5,
   "metadata": {},
   "outputs": [],
   "source": [
    "# merge dataframes\n",
    "m_df = l_df.join(s_df, on=\"sensor_id\", how=\"left\")\n",
    "m_df = m_df.join(e_df, on=\"equipment_id\", how=\"left\")"
   ]
  },
  {
   "cell_type": "markdown",
   "metadata": {},
   "source": [
    "##### Total equipment failures that happened\n"
   ]
  },
  {
   "cell_type": "code",
   "execution_count": 6,
   "metadata": {},
   "outputs": [
    {
     "name": "stderr",
     "output_type": "stream",
     "text": [
      "                                                                                \r"
     ]
    },
    {
     "data": {
      "text/plain": [
       "5000001"
      ]
     },
     "execution_count": 6,
     "metadata": {},
     "output_type": "execute_result"
    }
   ],
   "source": [
    "m_df.count()"
   ]
  },
  {
   "cell_type": "markdown",
   "metadata": {},
   "source": [
    "##### Total equipment failures that happened by equipment name"
   ]
  },
  {
   "cell_type": "code",
   "execution_count": 7,
   "metadata": {},
   "outputs": [
    {
     "name": "stderr",
     "output_type": "stream",
     "text": [
      "                                                                                \r"
     ]
    },
    {
     "name": "stdout",
     "output_type": "stream",
     "text": [
      "+--------+------+\n",
      "|    name| count|\n",
      "+--------+------+\n",
      "|3329175B|356736|\n",
      "|2C195700|357229|\n",
      "|9AD15F7E|356084|\n",
      "|ADE40E7F|357618|\n",
      "|CF304D24|357179|\n",
      "|E1AD07D4|357627|\n",
      "|4E834E81|357528|\n",
      "|78FFAD0C|357521|\n",
      "|5310B9D7|357220|\n",
      "|86083278|356855|\n",
      "|43B81579|356846|\n",
      "|98B84035|358414|\n",
      "|09C37FB8|357701|\n",
      "|E54B5C3A|355443|\n",
      "+--------+------+\n",
      "\n"
     ]
    }
   ],
   "source": [
    "m_df.groupBy(\"name\").count().show()"
   ]
  },
  {
   "cell_type": "markdown",
   "metadata": {},
   "source": [
    "##### Which equipment name had most failures?"
   ]
  },
  {
   "cell_type": "code",
   "execution_count": 8,
   "metadata": {},
   "outputs": [
    {
     "name": "stderr",
     "output_type": "stream",
     "text": [
      "                                                                                \r"
     ]
    },
    {
     "name": "stdout",
     "output_type": "stream",
     "text": [
      "+--------+------+\n",
      "|    name| count|\n",
      "+--------+------+\n",
      "|98B84035|358414|\n",
      "+--------+------+\n",
      "\n"
     ]
    },
    {
     "name": "stderr",
     "output_type": "stream",
     "text": [
      "                                                                                \r"
     ]
    }
   ],
   "source": [
    "m_df.groupBy(\"name\").count().orderBy(F.col(\"count\").desc()).limit(1).show()"
   ]
  },
  {
   "cell_type": "markdown",
   "metadata": {},
   "source": [
    "##### Average amount of failures across equipment group, ordered by the number of failures in ascending order?"
   ]
  },
  {
   "cell_type": "code",
   "execution_count": 9,
   "metadata": {},
   "outputs": [
    {
     "name": "stderr",
     "output_type": "stream",
     "text": [
      "                                                                                \r"
     ]
    },
    {
     "name": "stdout",
     "output_type": "stream",
     "text": [
      "+----------+---------+\n",
      "|group_name|avg_count|\n",
      "+----------+---------+\n",
      "|  FGHQWR2Q|356867.25|\n",
      "|  PA92NCXZ| 356892.5|\n",
      "|  VAPQY59S| 356937.0|\n",
      "|  Z9K1SAP4| 357528.0|\n",
      "|  9N127Z5P| 357569.5|\n",
      "|  NQWPA8D3| 357634.5|\n",
      "+----------+---------+\n",
      "\n"
     ]
    },
    {
     "name": "stderr",
     "output_type": "stream",
     "text": [
      "                                                                                \r"
     ]
    }
   ],
   "source": [
    "(\n",
    "    m_df.groupBy([\"group_name\", \"name\"])\n",
    "        .count()\n",
    "        .groupBy(\"group_name\")\n",
    "        .agg(F.avg(\"count\").alias(\"avg_count\"))\n",
    "        .orderBy(F.col(\"avg_count\").asc())\n",
    "        .show()\n",
    ")"
   ]
  },
  {
   "cell_type": "markdown",
   "metadata": {},
   "source": [
    "##### Rank the sensors which present the most number of errors by equipment name in an equipment group."
   ]
  },
  {
   "cell_type": "code",
   "execution_count": 23,
   "metadata": {},
   "outputs": [
    {
     "name": "stderr",
     "output_type": "stream",
     "text": [
      "                                                                                \r"
     ]
    },
    {
     "name": "stdout",
     "output_type": "stream",
     "text": [
      "+----------+--------+---------+-----+-----------+\n",
      "|group_name|    name|sensor_id|count|sensor_rank|\n",
      "+----------+--------+---------+-----+-----------+\n",
      "|  FGHQWR2Q|E1AD07D4|     9349|  604|          1|\n",
      "|  NQWPA8D3|98B84035|     4990|  582|          1|\n",
      "|  NQWPA8D3|98B84035|     9777|  582|          1|\n",
      "|  VAPQY59S|43B81579|     1127|  580|          1|\n",
      "|  FGHQWR2Q|5310B9D7|     7150|  579|          1|\n",
      "|  PA92NCXZ|09C37FB8|     9400|  577|          1|\n",
      "|  VAPQY59S|2C195700|     7966|  575|          1|\n",
      "|  Z9K1SAP4|4E834E81|     6639|  573|          1|\n",
      "|  NQWPA8D3|86083278|     8992|  572|          1|\n",
      "|  9N127Z5P|78FFAD0C|      582|  570|          1|\n",
      "|  FGHQWR2Q|E54B5C3A|     9664|  570|          1|\n",
      "|  VAPQY59S|3329175B|     5162|  567|          1|\n",
      "|  FGHQWR2Q|CF304D24|     9343|  566|          1|\n",
      "|  9N127Z5P|ADE40E7F|     4860|  562|          1|\n",
      "|  PA92NCXZ|9AD15F7E|     8680|  561|          1|\n",
      "+----------+--------+---------+-----+-----------+\n",
      "\n"
     ]
    }
   ],
   "source": [
    "(\n",
    "    m_df.groupBy([\"group_name\", \"name\", \"sensor_id\"])\n",
    "        .count()\n",
    "        .withColumn(\n",
    "            'sensor_rank',\n",
    "            F.rank().over(\n",
    "                Window.partitionBy(\"group_name\", \"name\").orderBy(F.desc(\"count\"))\n",
    "            ))\n",
    "        .filter('sensor_rank = 1')\n",
    "        .orderBy(F.col(\"count\").desc())\n",
    "        .show()\n",
    ")"
   ]
  }
 ],
 "metadata": {
  "kernelspec": {
   "display_name": "shape-challenge-NqjXHJza-py3.11",
   "language": "python",
   "name": "python3"
  },
  "language_info": {
   "codemirror_mode": {
    "name": "ipython",
    "version": 3
   },
   "file_extension": ".py",
   "mimetype": "text/x-python",
   "name": "python",
   "nbconvert_exporter": "python",
   "pygments_lexer": "ipython3",
   "version": "3.11.7"
  }
 },
 "nbformat": 4,
 "nbformat_minor": 2
}
